{
  "cells": [
    {
      "cell_type": "code",
      "execution_count": null,
      "metadata": {
        "id": "laDtyBhLwa_n"
      },
      "outputs": [],
      "source": [
        "import os\n",
        "dir = \"dataset\"\n",
        "\n",
        "dataset = []\n",
        "with open( os.path.join(dir, \"labels/shape/shape_anno_all.txt\"), \"r\" )  as f:\n",
        "    for line in f.readlines():\n",
        "        [img, s0,s1,s2,s3, glasses, s5,s6,s7,s8,s9,s10,s11] = line.split()\n",
        "        dataset.append( (img, [s0,s1,s2,s3, glasses, s5,s6,s7,s8,s9,s10,s11]) )\n",
        "\n",
        "d = dict()\n",
        "for (img, m) in dataset:\n",
        "    for i, c in enumerate(m):\n",
        "        if i not in d: d[i] = dict()\n",
        "        if c not in d[i]: d[i][c] = 0\n",
        "        d[i][c] += 1\n",
        "print(d)\n",
        "\n",
        "czapki = []\n",
        "bez_czapek = []\n",
        "for (img, m) in dataset:\n",
        "    if int(m[3]) == 1: czapki.append(img)\n",
        "    if int(m[3]) == 0: bez_czapek.append(img)\n",
        "\n",
        "import random\n",
        "random.shuffle(bez_czapek)\n",
        "random.shuffle(czapki)\n",
        "bez_czapek = bez_czapek[0:len(czapki)]\n",
        "\n",
        "train_czapki = czapki[:round(0.8*len(czapki))]\n",
        "val_czapki = czapki[round(0.8*len(czapki)):]\n",
        "\n",
        "train_bez_czapek = bez_czapek[:round(0.8*len(bez_czapek))]\n",
        "val_bez_czapek = bez_czapek[round(0.8*len(bez_czapek)):]\n",
        "\n",
        "input_dir = os.path.join(dir, \"images\")\n",
        "\n",
        "import shutil\n",
        "\n",
        "for img in train_czapki:\n",
        "    src = os.path.join(input_dir, img)\n",
        "    tgt = os.path.join(dir, \"train/trainA\", img)\n",
        "    shutil.copy(src,tgt)\n",
        "for img in val_czapki:\n",
        "    src = os.path.join(input_dir, img)\n",
        "    tgt = os.path.join(dir, \"val/valA\", img)\n",
        "    shutil.copy(src,tgt)\n",
        "for img in train_bez_czapek:\n",
        "    src = os.path.join(input_dir, img)\n",
        "    tgt = os.path.join(dir, \"train/trainB\", img)\n",
        "    shutil.copy(src,tgt)\n",
        "for img in val_bez_czapek:\n",
        "    src = os.path.join(input_dir, img)\n",
        "    tgt = os.path.join(dir, \"val/valB\", img)\n",
        "    shutil.copy(src,tgt)"
      ]
    }
  ],
  "metadata": {
    "kernelspec": {
      "display_name": "Python 3",
      "language": "python",
      "name": "python3"
    },
    "language_info": {
      "codemirror_mode": {
        "name": "ipython",
        "version": 3
      },
      "file_extension": ".py",
      "mimetype": "text/x-python",
      "name": "python",
      "nbconvert_exporter": "python",
      "pygments_lexer": "ipython3",
      "version": "3.11.7"
    },
    "colab": {
      "provenance": []
    }
  },
  "nbformat": 4,
  "nbformat_minor": 0
}